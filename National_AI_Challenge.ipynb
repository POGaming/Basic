{
  "nbformat": 4,
  "nbformat_minor": 0,
  "metadata": {
    "colab": {
      "provenance": [],
      "authorship_tag": "ABX9TyNeH7yXAzGpSCt6IjToP/Bv",
      "include_colab_link": true
    },
    "kernelspec": {
      "name": "python3",
      "display_name": "Python 3"
    },
    "language_info": {
      "name": "python"
    }
  },
  "cells": [
    {
      "cell_type": "markdown",
      "metadata": {
        "id": "view-in-github",
        "colab_type": "text"
      },
      "source": [
        "<a href=\"https://colab.research.google.com/github/POGaming/Basic/blob/main/National_AI_Challenge.ipynb\" target=\"_parent\"><img src=\"https://colab.research.google.com/assets/colab-badge.svg\" alt=\"Open In Colab\"/></a>"
      ]
    },
    {
      "cell_type": "code",
      "execution_count": null,
      "metadata": {
        "id": "5Ku8J-8iFSCe"
      },
      "outputs": [],
      "source": [
        "print(\"Hello! Thanks for using our app! Please key in your company name!\")\n",
        "company_name = input(\"company name: \")\n",
        "company_desc = input(\"company description (what your company does): \")\n",
        "data_dictionary = {}\n",
        "choice = 1\n",
        "while choice!=2:\n",
        "  choice = int(input(\"Type [1] to input new data and [2] to end program \"))\n",
        "  if choice ==1:\n",
        "    this_month = input(\"current month: \")\n",
        "    totalitems_sold = int(input(\"number of items sold: \"))\n",
        "    eachproduct_cost = int(input(\"cost of each product: $\"))\n",
        "    extra_cost = int(input(\"any margin profit (eg. rental):$ \"))\n",
        "    overall_earnings = totalitems_sold*eachproduct_cost-extra_cost\n",
        "    data_dictionary [this_month]= overall_earnings\n",
        "    if overall_earnings<0:\n",
        "      print(\"ur earnings are too low!! increase the price of ur products!!\")\n",
        "    elif overall_earnings>0 and overall_earnings <500:\n",
        "      print(\"pretty average earnings!!\")\n",
        "    elif overall_earnings >0 and overall_earnings>500 and overall_earnings<1000:\n",
        "      print(\"quite rich!!\")\n",
        "    \n",
        "print(data_dictionary)\n",
        "    \n",
        "    \n",
        "\n",
        "  \n"
      ]
    },
    {
      "cell_type": "markdown",
      "source": [
        "When businesses are mentioned, people immediately think of big companies and successful enterprises. But what about small businesses? In this new generation, many are taking the courageous step of becoming their own boss, by turning their creative ideas into reality. There are, with no doubt, difficulties faced by these youths. Without any experience, how can they sustainably manage their business? \n",
        "Our product serves as a tool targeted at small business owners, helping them in organising their ideas and data effectively. Some basic functions include keeping track of their profits and cost of materials, allowing the user to easily identify the success and fail factors of their business. The user could also compare their sales through flowcharts and graphs generated, providing a visual representation of information like the best time to sell their products or products that result in the most profit. This helps to give them a clearer idea of the direction their business should progress towards. Besides these data which are private to the user, this app serves the function of a social media platform too.\n",
        "Once the user sets up their account, creating a profile, their page can be found on the main page. Making this app customer-friendly, people who wish to find out more about the small business before their purchase can find out more information about the business and their products on this app. Users can leave reviews and comments about their purchasing experience on business profiles. Business owners could learn from each other and gain more experience. This could assist businesses in making improvements to their products and for customers to make better judgements of their purchase.\n",
        "This app may have limited functions, which can be further improved over time. To avoid allowing this app to become just like any other social media app, restrictions have to be put in place. Feedback given should be constructive and not to express hateful behaviour like on social media apps. \n",
        "Examples of improvements made could be the function of allowing business owners to hire employees using the app. This could attract users looking for a part time job by getting in touch with the owners, forming a partnership between both parties. Besides only receiving suggestions from others, the app could also offer a page consisting of professional feedback and advice on how they could solve their challenges faced. Users could send out questions and wait for replies, similar to a community-based app.\n",
        "Studies have shown that Singaporeans of this generation choose to support local sellers over buying the same product from international sellers. A study from Amazon finds that 48 percent of Gen X shoppers bought from local brands in the past week. In 2020, Amazon also welcomed more than 12,000 small businesses in Singapore. With the success of this app, small business owners could benefit by gaining more experience and knowing the requirements of running a business. This encourages more youth entrepreneurs to express their ideas.\n",
        "In conclusion, this app supports the growing market of small businesses, increasing the success rate of inexperienced entrepreneurs. As Nelson Mandela said, “Youths of today are the leaders of tomorrow.”\n"
      ],
      "metadata": {
        "id": "W_LNyOveFaxT"
      }
    }
  ]
}